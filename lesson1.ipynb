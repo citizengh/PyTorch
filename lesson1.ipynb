{
 "cells": [
  {
   "cell_type": "code",
   "execution_count": 1,
   "metadata": {},
   "outputs": [],
   "source": [
    "import torch"
   ]
  },
  {
   "cell_type": "code",
   "execution_count": 6,
   "metadata": {},
   "outputs": [],
   "source": [
    "# Создайте случайный FloatTensor размера 3x4x5\n",
    "a_tensor = torch.randn(3, 4, 5)"
   ]
  },
  {
   "cell_type": "code",
   "execution_count": 7,
   "metadata": {},
   "outputs": [
    {
     "data": {
      "text/plain": [
       "torch.Size([3, 4, 5])"
      ]
     },
     "execution_count": 7,
     "metadata": {},
     "output_type": "execute_result"
    }
   ],
   "source": [
    "# Выведите его форму (shape)\n",
    "a_tensor.shape"
   ]
  },
  {
   "cell_type": "code",
   "execution_count": 8,
   "metadata": {},
   "outputs": [
    {
     "data": {
      "text/plain": [
       "torch.Size([6, 10])"
      ]
     },
     "execution_count": 8,
     "metadata": {},
     "output_type": "execute_result"
    }
   ],
   "source": [
    "# Приведите его к форме 6 X 10\n",
    "b_tensor = torch.reshape(a_tensor, (6, 10))\n",
    "b_tensor.shape"
   ]
  },
  {
   "cell_type": "code",
   "execution_count": 20,
   "metadata": {},
   "outputs": [
    {
     "data": {
      "text/plain": [
       "tensor([5, 2, 8, 1, 6, 1, 4, 2, 0, 3])"
      ]
     },
     "execution_count": 20,
     "metadata": {},
     "output_type": "execute_result"
    }
   ],
   "source": [
    "# Умножьте его на вектор [1, 4, 2, 2, 1] поэлементноb_tensor\n",
    "v =  torch.randint(10, size=(10,)) # torch.rand(10)\n",
    "v"
   ]
  },
  {
   "cell_type": "code",
   "execution_count": 21,
   "metadata": {},
   "outputs": [
    {
     "data": {
      "text/plain": [
       "tensor([[  6.9038,  -0.0977, -10.6348,  -1.5213,   5.0069,   0.3300,   2.3989,\n",
       "           0.5024,   0.0000,  -2.1348],\n",
       "        [ -5.5345,  -1.9946,  -3.0497,  -0.2911,  -0.3949,   1.0096,   2.7042,\n",
       "          -0.6390,   0.0000,   2.8992],\n",
       "        [  3.5390,   1.7484,  21.8641,   0.4255,  -4.4230,   1.0640,   4.2692,\n",
       "           1.6132,   0.0000,   2.1541],\n",
       "        [  1.1668,  -0.2264,   4.7359,   0.7087,  -1.6776,   1.3363,   1.8974,\n",
       "          -0.4299,   0.0000,  -1.5641],\n",
       "        [ -0.3535,   0.6810,   0.3041,  -0.6642,   2.1460,   1.5397,  -1.5664,\n",
       "           1.6130,   0.0000,   3.1329],\n",
       "        [  2.5350,  -0.3532,   2.6782,  -0.9642,  12.5289,  -1.8941,   1.3747,\n",
       "           3.6695,   0.0000,   0.6356]])"
      ]
     },
     "execution_count": 21,
     "metadata": {},
     "output_type": "execute_result"
    }
   ],
   "source": [
    "torch.mul(b_tensor, v)"
   ]
  },
  {
   "cell_type": "code",
   "execution_count": 27,
   "metadata": {},
   "outputs": [
    {
     "data": {
      "text/plain": [
       "tensor([[ 0.9067,  1.7058, -0.8273, -5.2258, -3.6837,  0.6858],\n",
       "        [ 1.8711, -1.4016,  2.2807,  3.1910,  0.7643,  1.2635],\n",
       "        [ 6.3388, -1.5940,  2.3047,  3.3182,  2.5425, -0.7814],\n",
       "        [ 2.1273,  2.1710,  1.3356, -0.0597,  1.3633,  0.7322],\n",
       "        [ 4.5602, -1.0003,  2.3251,  3.7626, -0.0253,  0.7454],\n",
       "        [ 1.2434,  1.4300,  1.5298,  1.9240,  2.2010, -1.2127]])"
      ]
     },
     "execution_count": 27,
     "metadata": {},
     "output_type": "execute_result"
    }
   ],
   "source": [
    "# Умножьте тензор матрично на себя, чтобы результат был размерности 6x6\n",
    "b_tensor.mm(b_tensor.reshape(10, 6))"
   ]
  },
  {
   "cell_type": "code",
   "execution_count": 11,
   "metadata": {},
   "outputs": [
    {
     "data": {
      "text/plain": [
       "tensor([ -71.0000,  -36.6250, -124.0000])"
      ]
     },
     "execution_count": 11,
     "metadata": {},
     "output_type": "execute_result"
    }
   ],
   "source": [
    "# Посчитайте производную функции y = x**3 + z - 75t в точке (1, 0.5, 2)\n",
    "x = torch.tensor([1, 0.5, 2], requires_grad=True)\n",
    "z = x**3 + x - 75*x\n",
    "z.backward(x)\n",
    "x.grad"
   ]
  },
  {
   "cell_type": "code",
   "execution_count": 6,
   "metadata": {},
   "outputs": [],
   "source": [
    "# Создайте единичный тензор размера 5x6\n",
    "c = torch.ones((5, 6))"
   ]
  },
  {
   "cell_type": "code",
   "execution_count": 7,
   "metadata": {},
   "outputs": [
    {
     "data": {
      "text/plain": [
       "array([[1., 1., 1., 1., 1., 1.],\n",
       "       [1., 1., 1., 1., 1., 1.],\n",
       "       [1., 1., 1., 1., 1., 1.],\n",
       "       [1., 1., 1., 1., 1., 1.],\n",
       "       [1., 1., 1., 1., 1., 1.]], dtype=float32)"
      ]
     },
     "execution_count": 7,
     "metadata": {},
     "output_type": "execute_result"
    }
   ],
   "source": [
    "# Переведите его в формат numpy\n",
    "c.numpy()"
   ]
  },
  {
   "cell_type": "code",
   "execution_count": 23,
   "metadata": {},
   "outputs": [
    {
     "name": "stdout",
     "output_type": "stream",
     "text": [
      "Iteration 1, x = 1.96, y = 4.85\n",
      "Iteration 11, x = 1.69, y = 4.12\n",
      "Iteration 21, x = 1.55, y = 3.92\n",
      "Iteration 31, x = 1.47, y = 3.85\n",
      "Iteration 41, x = 1.42, y = 3.83\n",
      "Iteration 51, x = 1.39, y = 3.82\n",
      "Iteration 61, x = 1.37, y = 3.82\n",
      "Iteration 71, x = 1.36, y = 3.82\n",
      "Iteration 81, x = 1.35, y = 3.82\n",
      "Iteration 91, x = 1.34, y = 3.82\n",
      "Iteration 101, x = 1.34, y = 3.81\n",
      "Iteration 111, x = 1.34, y = 3.81\n"
     ]
    }
   ],
   "source": [
    "# Давайте теперь пооптимизируем: возьмите функцию y = x**w1 - 2 * x**2 + 5\n",
    "# Посчитайте \n",
    "from torch.autograd import Variable\n",
    "\n",
    "\n",
    "def function(x, w1):\n",
    "    return x**w1 - 2 * x**2 + 5\n",
    "\n",
    "def gradient(x):\n",
    "    return torch.autograd.grad(function(x, w1), x)[0]\n",
    "\n",
    "w1 = 3\n",
    "x = Variable(torch.Tensor([2]), requires_grad=True)\n",
    "learning_rate = 0.01\n",
    "num_iterations = 120\n",
    "for i in range(num_iterations):\n",
    "    x_grad = gradient(x)\n",
    "    x.data -= learning_rate * x_grad\n",
    "    if not i%10:\n",
    "        print(f\"Iteration {i+1}, x = {x.data[0]:.2f}, y = {function(x.data[0], w1):.2f}\")"
   ]
  }
 ],
 "metadata": {
  "kernelspec": {
   "display_name": "Python 3 (ipykernel)",
   "language": "python",
   "name": "python3"
  },
  "language_info": {
   "codemirror_mode": {
    "name": "ipython",
    "version": 3
   },
   "file_extension": ".py",
   "mimetype": "text/x-python",
   "name": "python",
   "nbconvert_exporter": "python",
   "pygments_lexer": "ipython3",
   "version": "3.7.0"
  }
 },
 "nbformat": 4,
 "nbformat_minor": 2
}
