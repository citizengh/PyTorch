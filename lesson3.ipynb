{
 "cells": [
  {
   "cell_type": "markdown",
   "metadata": {
    "id": "1ZKi7kOce9Gy"
   },
   "source": [
    "# Домашнее задание\n",
    "\n",
    "1. Создать Dataset для загрузки данных\n",
    "2. Обернуть его в Dataloader\n",
    "3. Написать архитектуру сети, которая предсказывает стоимость недвижимости. Сеть должна включать BatchNorm слои и Dropout (или НЕ включать, но нужно обосновать)\n",
    "4. Сравните сходимость Adam, RMSProp и SGD, сделайте вывод по качеству работы модели\n",
    "\n",
    "train-test разделение нужно сделать с помощью sklearn random_state=13, test_size = 0.25"
   ]
  },
  {
   "cell_type": "code",
   "execution_count": null,
   "metadata": {
    "id": "OLObm_RBe7y2"
   },
   "outputs": [],
   "source": [
    "import numpy as np\n",
    "import pandas as pd\n",
    "\n",
    "import torch\n",
    "from torch import nn\n",
    "from torch.optim import Adam, RMSprop, SGD\n",
    "from torch.utils.data import DataLoader, Dataset\n",
    "\n",
    "from sklearn.datasets import fetch_california_housing\n",
    "from sklearn.model_selection import train_test_split\n",
    "from sklearn.preprocessing import StandardScaler"
   ]
  },
  {
   "cell_type": "code",
   "execution_count": null,
   "metadata": {
    "id": "zJzTVylQfM1a"
   },
   "outputs": [],
   "source": [
    "DEVICE = torch.device(\"cuda\" if torch.cuda.is_available() else \"cpu\")\n",
    "EPOCHES = 10\n",
    "LR = 0.01"
   ]
  },
  {
   "cell_type": "code",
   "execution_count": null,
   "metadata": {
    "id": "kActSTTJfRVq"
   },
   "outputs": [],
   "source": [
    "class CHDataset(Dataset):\n",
    "  def __init__(self, *init_datasets):\n",
    "    assert all(init_datasets[0].size(0) == init_dataset.size(0) for init_dataset in init_datasets), \"Несоотвутствует размерность среди dataset\"\n",
    "    self._base_datasets = init_datasets\n",
    "  \n",
    "  def __len__(self):\n",
    "    return self._base_datasets[0].size(0)\n",
    "  \n",
    "  def __getitem__(self, idx):\n",
    "      return tuple(base_dataset[idx] for base_dataset in self._base_datasets)"
   ]
  },
  {
   "cell_type": "code",
   "execution_count": null,
   "metadata": {
    "id": "_5Ra-ppnfVYv"
   },
   "outputs": [],
   "source": [
    "class CHNet(nn.Module):\n",
    "  def __init__(self) -> None:\n",
    "      super(CHNet, self).__init__()\n",
    "      self.block_1 = nn.Sequential(\n",
    "          nn.Linear(in_features=8, out_features=100, bias=True),\n",
    "          nn.Dropout(0.1),\n",
    "          nn.BatchNorm1d(100),\n",
    "          nn.ReLU())\n",
    "      self.block_2 = nn.Sequential(\n",
    "          nn.Linear(in_features=100, out_features=100, bias=True),\n",
    "          nn.Dropout(0.2),\n",
    "          nn.BatchNorm1d(100),\n",
    "          nn.ReLU())\n",
    "      self.block_3 = nn.Sequential(\n",
    "          nn.Linear(in_features=100, out_features=60, bias=True),\n",
    "          nn.Dropout(0.2),\n",
    "          nn.BatchNorm1d(60),\n",
    "          nn.ReLU())\n",
    "      self.block_4 = nn.Sequential(\n",
    "          nn.Linear(in_features=60, out_features=30),\n",
    "          nn.Dropout(0.2),\n",
    "          nn.BatchNorm1d(30),\n",
    "          nn.ReLU())\n",
    "      self.predict = nn.Sequential(\n",
    "          nn.Linear(in_features=30, out_features=1, bias=True),\n",
    "          nn.BatchNorm1d(1),\n",
    "          nn.ReLU())\n",
    "  \n",
    "  def forward(self, inp):\n",
    "    out = self.block_1(inp)\n",
    "    out = self.block_2(out)\n",
    "    out = self.block_3(out)\n",
    "    out = self.block_4(out)\n",
    "    out = self.predict(out)\n",
    "    return out[:, 0]"
   ]
  },
  {
   "cell_type": "code",
   "execution_count": null,
   "metadata": {
    "id": "IoYfdBPyfcWQ"
   },
   "outputs": [],
   "source": [
    "def train_loop(train_loader, test_loader, net, optimizer):\n",
    "  loss_fn = nn.MSELoss()\n",
    "  best_acc = {'train': None, 'test': None}\n",
    "  net.train()\n",
    "  for epoch in range(EPOCHES):\n",
    "    running_loss, running_items, running_right = 0.0, 0.0, 0.0\n",
    "    for i, (inputs, labels) in enumerate(train_loader):\n",
    "        \n",
    "        outputs = net(inputs)\n",
    "        loss = loss_fn(outputs, labels)\n",
    "\n",
    "        # обнуляем градиент\n",
    "        optimizer.zero_grad()\n",
    "        loss.backward()\n",
    "        optimizer.step()\n",
    "\n",
    "        # выводим статистику о процессе обучения\n",
    "        running_loss += loss.item()\n",
    "        running_items += len(labels)\n",
    "        \n",
    "        # выводим статистику о процессе обучения\n",
    "        if i % 150 == 0 or (i + 1) == len(train_loader):    # печатаем каждые 150 mini-batches\n",
    "            net.eval()\n",
    "\n",
    "            test_loss, test_running_total, test_loss  = 0.0, 0.0, 0.0\n",
    "            for y, (out_test, lbl_test) in enumerate(test_loader):\n",
    "                test_outputs = net(out_test)\n",
    "                test_loss += loss_fn(test_outputs, lbl_test)\n",
    "                test_running_total += len(lbl_test)\n",
    "            \n",
    "            res_loss_train = running_loss / running_items\n",
    "            res_loss_test = test_loss / test_running_total\n",
    "            \n",
    "            if best_acc['train'] is None or res_loss_train < best_acc['train']:\n",
    "              best_acc['train'] = res_loss_train\n",
    "            \n",
    "            if best_acc['test'] is None or res_loss_test < best_acc['test']:\n",
    "              best_acc['test'] = res_loss_train\n",
    "\n",
    "            print(f'Epoch [{epoch + 1}/{EPOCHES}]. ' \\\n",
    "                  f'Step [{i + 1}/{len(train_loader)}]. ' \\\n",
    "                  f'Loss: {res_loss_train:.3f}. '\\\n",
    "                  f'Test acc: {res_loss_test:.3f}.')\n",
    "            \n",
    "            running_loss, running_items = 0.0, 0.0\n",
    "            net.train()\n",
    "  print(f\"Best acc train: {best_acc['train']:.3f}. Best acc test: {best_acc['test']:.3f}\")\n",
    "  print('Training is finished!')"
   ]
  },
  {
   "cell_type": "code",
   "execution_count": null,
   "metadata": {
    "id": "u9yhhfYFfjwd"
   },
   "outputs": [],
   "source": [
    "california_housing = fetch_california_housing()\n",
    "# Разделим на тестовые и тренеровочные данные\n",
    "X_train, X_test, y_train, y_test = train_test_split(california_housing.data, california_housing.target, test_size=0.25, random_state=13)"
   ]
  },
  {
   "cell_type": "code",
   "execution_count": null,
   "metadata": {
    "id": "MYOmWW1LfoDT"
   },
   "outputs": [],
   "source": [
    "# Нормализуем данные и подготовим их для дальнейшего использования в нашем dstaset\n",
    "scale = StandardScaler()\n",
    "X_train_s = scale.fit_transform(X_train)\n",
    "X_test_s = scale.transform(X_test)"
   ]
  },
  {
   "cell_type": "code",
   "execution_count": null,
   "metadata": {
    "id": "dbRkP4hCfr6d"
   },
   "outputs": [],
   "source": [
    "train_xt = torch.from_numpy(X_train_s.astype(np.float32)).to(DEVICE)\n",
    "train_yt = torch.from_numpy(y_train.astype(np.float32)).to(DEVICE)\n",
    "\n",
    "test_xt = torch.from_numpy(X_test_s.astype(np.float32)).to(DEVICE)\n",
    "test_yt = torch.from_numpy(y_test.astype(np.float32)).to(DEVICE)"
   ]
  },
  {
   "cell_type": "code",
   "execution_count": null,
   "metadata": {
    "id": "ac9dO76RfuEd"
   },
   "outputs": [],
   "source": [
    "train_dataset = CHDataset(train_xt, train_yt)\n",
    "test_dataset = CHDataset(test_xt, test_yt)"
   ]
  },
  {
   "cell_type": "code",
   "execution_count": null,
   "metadata": {
    "id": "bQ4XBSBlfwf5"
   },
   "outputs": [],
   "source": [
    "train_loader = DataLoader(train_dataset, batch_size=64, shuffle=True, num_workers=2, drop_last=True)\n",
    "test_loader = DataLoader(test_dataset, batch_size=64, shuffle=True, num_workers=2, drop_last=True)"
   ]
  },
  {
   "cell_type": "markdown",
   "metadata": {
    "id": "6FrPKCfQf3eu"
   },
   "source": [
    "# Adam"
   ]
  },
  {
   "cell_type": "code",
   "execution_count": null,
   "metadata": {
    "id": "IFyL3bvUfyxi"
   },
   "outputs": [],
   "source": [
    "net = CHNet().to(DEVICE)\n",
    "optimizer = Adam(net.parameters(), lr=LR)"
   ]
  },
  {
   "cell_type": "code",
   "execution_count": null,
   "metadata": {
    "colab": {
     "base_uri": "https://localhost:8080/"
    },
    "id": "jWUR_DVLf9Gc",
    "outputId": "bd3716d5-7a71-44a2-b39e-c72fe1bec841"
   },
   "outputs": [
    {
     "name": "stdout",
     "output_type": "stream",
     "text": [
      "Epoch [1/10]. Step [1/241]. Loss: 0.072. Test acc: 0.088.\n",
      "Epoch [1/10]. Step [151/241]. Loss: 0.026. Test acc: 0.012.\n",
      "Epoch [1/10]. Step [241/241]. Loss: 0.010. Test acc: 0.009.\n",
      "Epoch [2/10]. Step [1/241]. Loss: 0.010. Test acc: 0.009.\n",
      "Epoch [2/10]. Step [151/241]. Loss: 0.008. Test acc: 0.007.\n",
      "Epoch [2/10]. Step [241/241]. Loss: 0.008. Test acc: 0.008.\n",
      "Epoch [3/10]. Step [1/241]. Loss: 0.008. Test acc: 0.008.\n",
      "Epoch [3/10]. Step [151/241]. Loss: 0.008. Test acc: 0.010.\n",
      "Epoch [3/10]. Step [241/241]. Loss: 0.008. Test acc: 0.008.\n",
      "Epoch [4/10]. Step [1/241]. Loss: 0.006. Test acc: 0.008.\n",
      "Epoch [4/10]. Step [151/241]. Loss: 0.007. Test acc: 0.010.\n",
      "Epoch [4/10]. Step [241/241]. Loss: 0.007. Test acc: 0.006.\n",
      "Epoch [5/10]. Step [1/241]. Loss: 0.006. Test acc: 0.006.\n",
      "Epoch [5/10]. Step [151/241]. Loss: 0.007. Test acc: 0.005.\n",
      "Epoch [5/10]. Step [241/241]. Loss: 0.007. Test acc: 0.011.\n",
      "Epoch [6/10]. Step [1/241]. Loss: 0.009. Test acc: 0.011.\n",
      "Epoch [6/10]. Step [151/241]. Loss: 0.007. Test acc: 0.008.\n",
      "Epoch [6/10]. Step [241/241]. Loss: 0.006. Test acc: 0.007.\n",
      "Epoch [7/10]. Step [1/241]. Loss: 0.005. Test acc: 0.007.\n",
      "Epoch [7/10]. Step [151/241]. Loss: 0.006. Test acc: 0.014.\n",
      "Epoch [7/10]. Step [241/241]. Loss: 0.007. Test acc: 0.007.\n",
      "Epoch [8/10]. Step [1/241]. Loss: 0.006. Test acc: 0.007.\n",
      "Epoch [8/10]. Step [151/241]. Loss: 0.006. Test acc: 0.007.\n",
      "Epoch [8/10]. Step [241/241]. Loss: 0.006. Test acc: 0.010.\n",
      "Epoch [9/10]. Step [1/241]. Loss: 0.005. Test acc: 0.009.\n",
      "Epoch [9/10]. Step [151/241]. Loss: 0.006. Test acc: 0.009.\n",
      "Epoch [9/10]. Step [241/241]. Loss: 0.006. Test acc: 0.006.\n",
      "Epoch [10/10]. Step [1/241]. Loss: 0.008. Test acc: 0.006.\n",
      "Epoch [10/10]. Step [151/241]. Loss: 0.006. Test acc: 0.008.\n",
      "Epoch [10/10]. Step [241/241]. Loss: 0.006. Test acc: 0.006.\n",
      "Best acc train: 0.005. Best acc test: 0.006\n",
      "Training is finished!\n",
      "CPU times: user 17.9 s, sys: 3.02 s, total: 20.9 s\n",
      "Wall time: 36.6 s\n"
     ]
    }
   ],
   "source": [
    "%%time\n",
    "train_loop(train_loader, test_loader, net, optimizer)"
   ]
  },
  {
   "cell_type": "markdown",
   "metadata": {
    "id": "izB6uyPhgSqx"
   },
   "source": [
    "# RMSProp"
   ]
  },
  {
   "cell_type": "code",
   "execution_count": null,
   "metadata": {
    "id": "ME_AOY8FgHZU"
   },
   "outputs": [],
   "source": [
    "net = CHNet().to(DEVICE)\n",
    "optimizer = RMSprop(net.parameters(), lr=LR)"
   ]
  },
  {
   "cell_type": "code",
   "execution_count": null,
   "metadata": {
    "colab": {
     "base_uri": "https://localhost:8080/"
    },
    "id": "FY-9plsvgWBH",
    "outputId": "d7347eed-99b7-4427-ab9b-9b1378bdfb69"
   },
   "outputs": [
    {
     "name": "stdout",
     "output_type": "stream",
     "text": [
      "Epoch [1/10]. Step [1/241]. Loss: 0.079. Test acc: 0.088.\n",
      "Epoch [1/10]. Step [151/241]. Loss: 0.015. Test acc: 0.008.\n",
      "Epoch [1/10]. Step [241/241]. Loss: 0.009. Test acc: 0.011.\n",
      "Epoch [2/10]. Step [1/241]. Loss: 0.005. Test acc: 0.010.\n",
      "Epoch [2/10]. Step [151/241]. Loss: 0.008. Test acc: 0.007.\n",
      "Epoch [2/10]. Step [241/241]. Loss: 0.007. Test acc: 0.009.\n",
      "Epoch [3/10]. Step [1/241]. Loss: 0.008. Test acc: 0.009.\n",
      "Epoch [3/10]. Step [151/241]. Loss: 0.007. Test acc: 0.010.\n",
      "Epoch [3/10]. Step [241/241]. Loss: 0.008. Test acc: 0.006.\n",
      "Epoch [4/10]. Step [1/241]. Loss: 0.005. Test acc: 0.006.\n",
      "Epoch [4/10]. Step [151/241]. Loss: 0.007. Test acc: 0.012.\n",
      "Epoch [4/10]. Step [241/241]. Loss: 0.007. Test acc: 0.006.\n",
      "Epoch [5/10]. Step [1/241]. Loss: 0.006. Test acc: 0.007.\n",
      "Epoch [5/10]. Step [151/241]. Loss: 0.007. Test acc: 0.006.\n",
      "Epoch [5/10]. Step [241/241]. Loss: 0.006. Test acc: 0.013.\n",
      "Epoch [6/10]. Step [1/241]. Loss: 0.006. Test acc: 0.012.\n",
      "Epoch [6/10]. Step [151/241]. Loss: 0.006. Test acc: 0.006.\n",
      "Epoch [6/10]. Step [241/241]. Loss: 0.006. Test acc: 0.006.\n",
      "Epoch [7/10]. Step [1/241]. Loss: 0.003. Test acc: 0.006.\n",
      "Epoch [7/10]. Step [151/241]. Loss: 0.006. Test acc: 0.011.\n",
      "Epoch [7/10]. Step [241/241]. Loss: 0.006. Test acc: 0.009.\n",
      "Epoch [8/10]. Step [1/241]. Loss: 0.006. Test acc: 0.010.\n",
      "Epoch [8/10]. Step [151/241]. Loss: 0.006. Test acc: 0.008.\n",
      "Epoch [8/10]. Step [241/241]. Loss: 0.006. Test acc: 0.005.\n",
      "Epoch [9/10]. Step [1/241]. Loss: 0.005. Test acc: 0.005.\n",
      "Epoch [9/10]. Step [151/241]. Loss: 0.006. Test acc: 0.011.\n",
      "Epoch [9/10]. Step [241/241]. Loss: 0.006. Test acc: 0.010.\n",
      "Epoch [10/10]. Step [1/241]. Loss: 0.005. Test acc: 0.009.\n",
      "Epoch [10/10]. Step [151/241]. Loss: 0.006. Test acc: 0.006.\n",
      "Epoch [10/10]. Step [241/241]. Loss: 0.006. Test acc: 0.012.\n",
      "Best acc train: 0.003. Best acc test: 0.005\n",
      "Training is finished!\n",
      "CPU times: user 15.3 s, sys: 2.87 s, total: 18.1 s\n",
      "Wall time: 23 s\n"
     ]
    }
   ],
   "source": [
    "%%time\n",
    "train_loop(train_loader, test_loader, net, optimizer)"
   ]
  },
  {
   "cell_type": "markdown",
   "metadata": {
    "id": "4AV5F-mTga7e"
   },
   "source": [
    "# SGD"
   ]
  },
  {
   "cell_type": "code",
   "execution_count": null,
   "metadata": {
    "id": "JfFxD8dmgYRj"
   },
   "outputs": [],
   "source": [
    "net = CHNet().to(DEVICE)\n",
    "optimizer = SGD(net.parameters(), lr=LR)"
   ]
  },
  {
   "cell_type": "code",
   "execution_count": null,
   "metadata": {
    "colab": {
     "base_uri": "https://localhost:8080/"
    },
    "id": "dStNVUeJgftt",
    "outputId": "5e860d4f-6243-47f9-91cb-b577ff386618"
   },
   "outputs": [
    {
     "name": "stdout",
     "output_type": "stream",
     "text": [
      "Epoch [1/10]. Step [1/241]. Loss: 0.068. Test acc: 0.088.\n",
      "Epoch [1/10]. Step [151/241]. Loss: 0.026. Test acc: 0.012.\n",
      "Epoch [1/10]. Step [241/241]. Loss: 0.012. Test acc: 0.010.\n",
      "Epoch [2/10]. Step [1/241]. Loss: 0.008. Test acc: 0.010.\n",
      "Epoch [2/10]. Step [151/241]. Loss: 0.011. Test acc: 0.010.\n",
      "Epoch [2/10]. Step [241/241]. Loss: 0.010. Test acc: 0.009.\n",
      "Epoch [3/10]. Step [1/241]. Loss: 0.011. Test acc: 0.009.\n",
      "Epoch [3/10]. Step [151/241]. Loss: 0.010. Test acc: 0.008.\n",
      "Epoch [3/10]. Step [241/241]. Loss: 0.009. Test acc: 0.007.\n",
      "Epoch [4/10]. Step [1/241]. Loss: 0.007. Test acc: 0.007.\n",
      "Epoch [4/10]. Step [151/241]. Loss: 0.008. Test acc: 0.007.\n",
      "Epoch [4/10]. Step [241/241]. Loss: 0.008. Test acc: 0.007.\n",
      "Epoch [5/10]. Step [1/241]. Loss: 0.007. Test acc: 0.007.\n",
      "Epoch [5/10]. Step [151/241]. Loss: 0.007. Test acc: 0.007.\n",
      "Epoch [5/10]. Step [241/241]. Loss: 0.008. Test acc: 0.007.\n",
      "Epoch [6/10]. Step [1/241]. Loss: 0.006. Test acc: 0.007.\n",
      "Epoch [6/10]. Step [151/241]. Loss: 0.007. Test acc: 0.007.\n",
      "Epoch [6/10]. Step [241/241]. Loss: 0.007. Test acc: 0.007.\n",
      "Epoch [7/10]. Step [1/241]. Loss: 0.008. Test acc: 0.007.\n",
      "Epoch [7/10]. Step [151/241]. Loss: 0.007. Test acc: 0.006.\n",
      "Epoch [7/10]. Step [241/241]. Loss: 0.007. Test acc: 0.006.\n",
      "Epoch [8/10]. Step [1/241]. Loss: 0.008. Test acc: 0.006.\n",
      "Epoch [8/10]. Step [151/241]. Loss: 0.007. Test acc: 0.006.\n",
      "Epoch [8/10]. Step [241/241]. Loss: 0.007. Test acc: 0.007.\n",
      "Epoch [9/10]. Step [1/241]. Loss: 0.005. Test acc: 0.007.\n",
      "Epoch [9/10]. Step [151/241]. Loss: 0.007. Test acc: 0.006.\n",
      "Epoch [9/10]. Step [241/241]. Loss: 0.007. Test acc: 0.006.\n",
      "Epoch [10/10]. Step [1/241]. Loss: 0.008. Test acc: 0.006.\n",
      "Epoch [10/10]. Step [151/241]. Loss: 0.007. Test acc: 0.007.\n",
      "Epoch [10/10]. Step [241/241]. Loss: 0.007. Test acc: 0.006.\n",
      "Best acc train: 0.005. Best acc test: 0.006\n",
      "Training is finished!\n",
      "CPU times: user 14.2 s, sys: 3.01 s, total: 17.3 s\n",
      "Wall time: 22 s\n"
     ]
    }
   ],
   "source": [
    "%%time\n",
    "train_loop(train_loader, test_loader, net, optimizer)"
   ]
  },
  {
   "cell_type": "markdown",
   "metadata": {
    "id": "T14lK3gagnv6"
   },
   "source": [
    "# SGD + Momentum"
   ]
  },
  {
   "cell_type": "code",
   "execution_count": null,
   "metadata": {
    "id": "mE_IzdewgiOb"
   },
   "outputs": [],
   "source": [
    "net = CHNet().to(DEVICE)\n",
    "optimizer = SGD(net.parameters(), lr=LR, momentum=0.8)"
   ]
  },
  {
   "cell_type": "code",
   "execution_count": null,
   "metadata": {
    "colab": {
     "base_uri": "https://localhost:8080/"
    },
    "id": "v2P04bd3gsHK",
    "outputId": "52e80ae6-3b99-49e9-ac20-39b1e144bc01"
   },
   "outputs": [
    {
     "name": "stdout",
     "output_type": "stream",
     "text": [
      "Epoch [1/10]. Step [1/241]. Loss: 0.061. Test acc: 0.076.\n",
      "Epoch [1/10]. Step [151/241]. Loss: 0.015. Test acc: 0.009.\n",
      "Epoch [1/10]. Step [241/241]. Loss: 0.009. Test acc: 0.007.\n",
      "Epoch [2/10]. Step [1/241]. Loss: 0.008. Test acc: 0.007.\n",
      "Epoch [2/10]. Step [151/241]. Loss: 0.008. Test acc: 0.007.\n",
      "Epoch [2/10]. Step [241/241]. Loss: 0.007. Test acc: 0.007.\n",
      "Epoch [3/10]. Step [1/241]. Loss: 0.011. Test acc: 0.007.\n",
      "Epoch [3/10]. Step [151/241]. Loss: 0.007. Test acc: 0.007.\n",
      "Epoch [3/10]. Step [241/241]. Loss: 0.007. Test acc: 0.007.\n",
      "Epoch [4/10]. Step [1/241]. Loss: 0.006. Test acc: 0.006.\n",
      "Epoch [4/10]. Step [151/241]. Loss: 0.007. Test acc: 0.006.\n",
      "Epoch [4/10]. Step [241/241]. Loss: 0.007. Test acc: 0.006.\n",
      "Epoch [5/10]. Step [1/241]. Loss: 0.006. Test acc: 0.007.\n",
      "Epoch [5/10]. Step [151/241]. Loss: 0.007. Test acc: 0.006.\n",
      "Epoch [5/10]. Step [241/241]. Loss: 0.007. Test acc: 0.006.\n",
      "Epoch [6/10]. Step [1/241]. Loss: 0.004. Test acc: 0.006.\n",
      "Epoch [6/10]. Step [151/241]. Loss: 0.007. Test acc: 0.008.\n",
      "Epoch [6/10]. Step [241/241]. Loss: 0.007. Test acc: 0.006.\n",
      "Epoch [7/10]. Step [1/241]. Loss: 0.007. Test acc: 0.006.\n",
      "Epoch [7/10]. Step [151/241]. Loss: 0.007. Test acc: 0.006.\n",
      "Epoch [7/10]. Step [241/241]. Loss: 0.006. Test acc: 0.006.\n",
      "Epoch [8/10]. Step [1/241]. Loss: 0.004. Test acc: 0.006.\n",
      "Epoch [8/10]. Step [151/241]. Loss: 0.006. Test acc: 0.006.\n",
      "Epoch [8/10]. Step [241/241]. Loss: 0.006. Test acc: 0.008.\n",
      "Epoch [9/10]. Step [1/241]. Loss: 0.006. Test acc: 0.008.\n",
      "Epoch [9/10]. Step [151/241]. Loss: 0.006. Test acc: 0.006.\n",
      "Epoch [9/10]. Step [241/241]. Loss: 0.006. Test acc: 0.006.\n",
      "Epoch [10/10]. Step [1/241]. Loss: 0.005. Test acc: 0.006.\n",
      "Epoch [10/10]. Step [151/241]. Loss: 0.006. Test acc: 0.006.\n",
      "Epoch [10/10]. Step [241/241]. Loss: 0.006. Test acc: 0.005.\n",
      "Best acc train: 0.004. Best acc test: 0.004\n",
      "Training is finished!\n",
      "CPU times: user 14.5 s, sys: 2.91 s, total: 17.4 s\n",
      "Wall time: 21.9 s\n"
     ]
    }
   ],
   "source": [
    "%%time\n",
    "train_loop(train_loader, test_loader, net, optimizer)"
   ]
  },
  {
   "cell_type": "markdown",
   "metadata": {
    "id": "tDz7F1w5hNB2"
   },
   "source": [
    "Adam: Best acc train: 0.005. Best acc test: 0.006\n",
    "\n",
    "RMSProp: Best acc train: 0.004. Best acc test: 0.006\n",
    "\n",
    "SGD: Best acc train: 0.006. Best acc test: 0.007\n",
    "\n",
    "SGD + Momentum: Best acc train: 0.005. Best acc test: 0.006 "
   ]
  },
  {
   "cell_type": "code",
   "execution_count": null,
   "metadata": {
    "id": "ix6CfsxJguTK"
   },
   "outputs": [],
   "source": []
  }
 ],
 "metadata": {
  "colab": {
   "provenance": []
  },
  "kernelspec": {
   "display_name": "Python 3 (ipykernel)",
   "language": "python",
   "name": "python3"
  },
  "language_info": {
   "codemirror_mode": {
    "name": "ipython",
    "version": 3
   },
   "file_extension": ".py",
   "mimetype": "text/x-python",
   "name": "python",
   "nbconvert_exporter": "python",
   "pygments_lexer": "ipython3",
   "version": "3.9.15"
  }
 },
 "nbformat": 4,
 "nbformat_minor": 1
}
